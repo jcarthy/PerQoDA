{
 "cells": [
  {
   "cell_type": "markdown",
   "metadata": {},
   "source": [
    "<h2>PerQoDA</h2>\n",
    "<h3>Dataset Quality Assessment with Permutation Testing</h3>\n"
   ]
  },
  {
   "cell_type": "markdown",
   "metadata": {},
   "source": [
    "Load required libraries"
   ]
  },
  {
   "cell_type": "code",
   "execution_count": 2,
   "metadata": {},
   "outputs": [],
   "source": [
    "import weles as ws\n",
    "import pandas as pd\n",
    "import seaborn as sn\n",
    "import matplotlib.pyplot as plt\n",
    "import numpy as np\n",
    "import matplotlib.cm as cm"
   ]
  },
  {
   "cell_type": "markdown",
   "metadata": {},
   "source": [
    "Prepare dataset (X1 - data, y1 - labels)"
   ]
  },
  {
   "cell_type": "code",
   "execution_count": 340,
   "metadata": {},
   "outputs": [],
   "source": [
    "datasets = {\n",
    "    \"all\": (X1, y1)\n",
    "}"
   ]
  },
  {
   "cell_type": "markdown",
   "metadata": {},
   "source": [
    "Select classifiers"
   ]
  },
  {
   "cell_type": "code",
   "execution_count": 375,
   "metadata": {},
   "outputs": [],
   "source": [
    "clfs = {\n",
    "        \"KNN\": KNeighborsClassifier(),\n",
    "        \"RF\": RandomForestClassifier(),\n",
    "        \"AB\": AdaBoostClassifier()\n",
    "}"
   ]
  },
  {
   "cell_type": "markdown",
   "metadata": {},
   "source": [
    "Run the Weles, select metrics, and save true results"
   ]
  },
  {
   "cell_type": "code",
   "execution_count": null,
   "metadata": {},
   "outputs": [],
   "source": [
    "# protocol2=(shuffle, folds, random_state)\n",
    "\n",
    "ev = ws.evaluation.Evaluator(datasets=datasets, protocol2=(False, 2, None)).process(clfs=clfs, verbose=1)\n",
    "\n",
    "metrics = {\n",
    "    \"F1\": f1_score\n",
    "}\n",
    "\n",
    "scores = ev.score(metrics=metrics)"
   ]
  },
  {
   "cell_type": "markdown",
   "metadata": {},
   "source": [
    "Run the PerQoDA"
   ]
  },
  {
   "cell_type": "code",
   "execution_count": null,
   "metadata": {},
   "outputs": [],
   "source": [
    "nperm = 100 # number of permutations \n",
    "perc = [50, 25, 10, 5, 1] # percentage of permutation\n",
    "a=np.shape(ev.scores.mean(axis=2)[:, :, 0]) # true results\n",
    "\n",
    "perm = np.zeros((nperm,len(perc),a[1]))\n",
    "corr = np.zeros((nperm,len(perc)))\n",
    "\n",
    "for i in range(nperm):\n",
    "    for j in range(len(perc)):\n",
    "\n",
    "        print(i,j)\n",
    "           \n",
    "        while True:\n",
    "            ind1=np.where(y1 == 0)\n",
    "            ind2=np.where(y1 == 1)\n",
    "            \n",
    "            nperc1 = round(perc[j]*len(ind1[0])/100)\n",
    "            nperc2 = round(perc[j]*len(ind2[0])/100)\n",
    "        \n",
    "            indP = np.random.permutation(np.concatenate((ind1[0][:nperc1], ind2[0][:nperc2])))\n",
    "            ind = np.sort(indP);\n",
    "\n",
    "            y1P = np.copy(y1);\n",
    "\n",
    "            y1P[ind] = y1[indP];\n",
    "            \n",
    "            comparison = y1 == y1P\n",
    "            \n",
    "            if not comparison.all():\n",
    "                break\n",
    "\n",
    "        datasetsP = {\n",
    "          \"all\": (X1, y1P)\n",
    "        }\n",
    "\n",
    "        evP = ws.evaluation.Evaluator(datasets=datasetsP,protocol2=(False, 2, None)).process(clfs=clfs, verbose=0)\n",
    "\n",
    "        scores = evP.score(metrics=metrics)\n",
    "\n",
    "        perm[i,j,:] = evP.scores.mean(axis=2)[:, :, 0]\n",
    "        \n",
    "        kk = np.corrcoef(y1P,y1)\n",
    "        corr[i,j] = kk[0,1]"
   ]
  },
  {
   "cell_type": "markdown",
   "metadata": {},
   "source": [
    "Visualize ML results and print the p-value table"
   ]
  },
  {
   "cell_type": "code",
   "execution_count": null,
   "metadata": {},
   "outputs": [],
   "source": [
    "pvalues = np.zeros((a[1],len(perc)))\n",
    "colors = cm.rainbow(np.linspace(0, 1, a[1]))\n",
    "\n",
    "# plot true values as diamonds\n",
    "for i, c in zip(range(a[1]),colors):\n",
    "    plt.scatter(1.1+i*0.01, ev.scores.mean(axis=2)[:, i, 0], s=100, color=c, marker='d')\n",
    "    \n",
    "plt.legend((\"KNN\",\"RF\",\"AB\"))\n",
    "\n",
    "# plot lines for true values\n",
    "for i, c in zip(range(a[1]),colors):\n",
    "    plt.plot([0, 1.1+i*0.01], [ev.scores.mean(axis=2)[:, i, 0], ev.scores.mean(axis=2)[:, i, 0]], c=c, linestyle='dashed', alpha=0.5)\n",
    "\n",
    "# plot permutations\n",
    "colors = cm.rainbow(np.linspace(0, 1, a[1]))\n",
    "for j in range(len(perc)):\n",
    "    for i, c in zip(range(a[1]),colors):\n",
    "        ind = np.where(perm[:,j,i]<ev.scores.mean(axis=2)[:, i, 0])\n",
    "        plt.scatter((corr[ind,j]), perm[ind,j,i], color=\"none\", edgecolor=c, alpha=0.3)\n",
    "        \n",
    "for j in range(len(perc)):\n",
    "    for i, c in zip(range(a[1]),colors):\n",
    "        ind = np.where(perm[:,j,i]>=ev.scores.mean(axis=2)[:, i, 0])\n",
    "        plt.scatter((corr[ind,j]), perm[ind,j,i], color=c, edgecolor=\"black\", alpha=1)\n",
    "        pvalues[i,j] = ((len(ind[0])+1)*1.0)/(nperm+1);\n",
    "\n",
    "plt.ylabel('Performance (F1)', size=12)\n",
    "plt.xlabel('Permutation Correlation', size=12)       \n",
    "\n",
    "plt.plot([0, 1.1], [perm.min(), perm.min()], color='red', linestyle='dashed', alpha=0.5)\n",
    "\n",
    "plt.axis([-0.05, 1.2, 0, 1.1])\n",
    "\n",
    "plt.show()\n",
    "\n",
    "pv = pd.DataFrame(data=pvalues, index=[\"KNN\",\"RF\",\"AB\"], columns=[\"50%\", \"25%\", \"10%\", \"5%\", \"1%\"])\n",
    "\n",
    "def significant(v):\n",
    "    return \"font-weight: bold; color: red\" if v > 0.01 else None\n",
    "\n",
    "pv.style.applymap(significant)"
   ]
  },
  {
   "cell_type": "markdown",
   "metadata": {},
   "source": [
    "Calculate the slope"
   ]
  },
  {
   "cell_type": "code",
   "execution_count": null,
   "metadata": {},
   "outputs": [],
   "source": [
    "names = [\"KNN\",\"RF\",\"AB\"]\n",
    "cor = []\n",
    "per = []\n",
    "slopes = []\n",
    "\n",
    "for i, c in zip(range(a[1]),colors):\n",
    "    for j in range(len(perc)):\n",
    "        plt.scatter(np.mean(corr[:,j]), np.mean(perm[:,j,i]) - ev.scores.mean(axis=2)[:, i, 0], color=c, alpha=1)\n",
    "    \n",
    "    cor = np.mean(corr[:,:], axis=0)\n",
    "    per = np.mean(perm[:,:,i], axis=0) - ev.scores.mean(axis=2)[:, i, 0]\n",
    "    \n",
    "    slope, intercept = np.polyfit(cor, per, 1)\n",
    "    plt.plot(cor, slope*cor + intercept, color=c, linewidth=0.8)\n",
    "    print(names[i], '=', slope)\n",
    "    slopes = np.append(slopes, slope)\n",
    "\n",
    "plt.legend(names)\n",
    "\n",
    "maxind = np.argmax(abs(slopes))\n",
    "\n",
    "print('Slope:', np.max(abs(slopes)), '-', names[maxind])"
   ]
  }
 ],
 "metadata": {
  "kernelspec": {
   "display_name": "Python 3",
   "language": "python",
   "name": "python3"
  },
  "language_info": {
   "codemirror_mode": {
    "name": "ipython",
    "version": 3
   },
   "file_extension": ".py",
   "mimetype": "text/x-python",
   "name": "python",
   "nbconvert_exporter": "python",
   "pygments_lexer": "ipython3",
   "version": "3.8.5"
  }
 },
 "nbformat": 4,
 "nbformat_minor": 5
}
